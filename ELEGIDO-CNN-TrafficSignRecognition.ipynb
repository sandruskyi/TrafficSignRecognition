{
 "cells": [
  {
   "cell_type": "markdown",
   "metadata": {},
   "source": [
    "### The German Traffic Sign Benchmark\n",
    "\n",
    "Student Name 1: Sandra Gómez Gálvez\n",
    "\n",
    "Student Name 2: Héctor Felipe Mateo Romero"
   ]
  },
  {
   "cell_type": "markdown",
   "metadata": {},
   "source": [
    "### 1. Download data"
   ]
  },
  {
   "cell_type": "code",
   "execution_count": 1,
   "metadata": {},
   "outputs": [
    {
     "data": {
      "text/plain": [
       "'\\n# Download the data base\\n!wget -c http://www.dia.fi.upm.es/~lbaumela/FullIJCNN2013.zip\\n'"
      ]
     },
     "execution_count": 1,
     "metadata": {},
     "output_type": "execute_result"
    }
   ],
   "source": [
    "\"\"\"\n",
    "# Download the data base\n",
    "!wget -c http://www.dia.fi.upm.es/~lbaumela/FullIJCNN2013.zip\n",
    "\"\"\""
   ]
  },
  {
   "cell_type": "code",
   "execution_count": 2,
   "metadata": {},
   "outputs": [
    {
     "data": {
      "text/plain": [
       "'\\n!unzip FullIJCNN2013.zip\\n'"
      ]
     },
     "execution_count": 2,
     "metadata": {},
     "output_type": "execute_result"
    }
   ],
   "source": [
    "\"\"\"\n",
    "!unzip FullIJCNN2013.zip\n",
    "\"\"\""
   ]
  },
  {
   "cell_type": "markdown",
   "metadata": {},
   "source": [
    "### 2. Import Libraries"
   ]
  },
  {
   "cell_type": "code",
   "execution_count": 2,
   "metadata": {},
   "outputs": [],
   "source": [
    "import numpy as np\n",
    "import pandas as pd\n",
    "import cv2\n",
    "import matplotlib.pyplot as plt\n",
    "from sklearn.utils import shuffle\n",
    "from keras.utils import np_utils"
   ]
  },
  {
   "cell_type": "markdown",
   "metadata": {},
   "source": [
    "### 3. Read data & data pre-processing"
   ]
  },
  {
   "cell_type": "code",
   "execution_count": 3,
   "metadata": {},
   "outputs": [],
   "source": [
    "IMG_HEIGHT = 600\n",
    "SIGN_SIZE = (224, 224)\n",
    "\n",
    "# Function for reading the images\n",
    "def readImages(rootpath, images_range, signs_range):\n",
    "    '''Reads traffic sign data for German Traffic Sign Recognition Benchmark.\n",
    "    Arguments: path to the traffic sign data, for example 'FullIJCNN2013'\n",
    "    Returns:   list of images, list of corresponding labels'''\n",
    "    images = {} # original image\n",
    "    scales = {} # original scale\n",
    "    for num in images_range:\n",
    "        filename = rootpath + '/' + \"{:05d}\".format(num) + '.ppm'\n",
    "        img = cv2.imread(filename, cv2.IMREAD_COLOR)\n",
    "        scale = IMG_HEIGHT / float(img.shape[0])\n",
    "        img_resized = cv2.resize(img, (int(img.shape[1]*scale),int(img.shape[0]*scale)))\n",
    "        images.setdefault(filename,[]).append(img_resized)\n",
    "        scales.setdefault(filename,[]).append(scale)\n",
    "\n",
    "    files = [] # filenames\n",
    "    signs = [] # traffic sign image\n",
    "    bboxes = [] # corresponding box detection\n",
    "    labels = [] # traffic sign type\n",
    "    data = np.genfromtxt(rootpath + '/' + 'gt.txt', delimiter=';', dtype=str, usecols=range(0, 6))\n",
    "    \n",
    "    for elem in signs_range:\n",
    "        filename = rootpath + '/' + data[elem][0]\n",
    "        img = images.get(filename)[0]\n",
    "        scale = scales.get(filename)[0]\n",
    "        bbox = np.array([int(data[elem][1]), int(data[elem][2]), int(data[elem][3]), int(data[elem][4])]) * scale\n",
    "        sign = img[int(bbox[1]):int(bbox[3]), int(bbox[0]):int(bbox[2])]\n",
    "        sign_resized = cv2.resize(sign, SIGN_SIZE)\n",
    "        files.append(filename)\n",
    "        signs.append(sign_resized)\n",
    "        bboxes.append(bbox)\n",
    "        labels.append(data[elem][5])\n",
    "    return images, files, signs, bboxes, labels"
   ]
  },
  {
   "cell_type": "code",
   "execution_count": 4,
   "metadata": {},
   "outputs": [
    {
     "ename": "AttributeError",
     "evalue": "'NoneType' object has no attribute 'shape'",
     "output_type": "error",
     "traceback": [
      "\u001b[1;31m---------------------------------------------------------------------------\u001b[0m",
      "\u001b[1;31mAttributeError\u001b[0m                            Traceback (most recent call last)",
      "\u001b[1;32m<ipython-input-4-2f46829a53d8>\u001b[0m in \u001b[0;36m<module>\u001b[1;34m\u001b[0m\n\u001b[0;32m      1\u001b[0m \u001b[1;31m# The German Traffic Sign Recognition Benchmark\u001b[0m\u001b[1;33m\u001b[0m\u001b[1;33m\u001b[0m\u001b[1;33m\u001b[0m\u001b[0m\n\u001b[1;32m----> 2\u001b[1;33m \u001b[0mtrain_images\u001b[0m\u001b[1;33m,\u001b[0m \u001b[0mtrain_files\u001b[0m\u001b[1;33m,\u001b[0m \u001b[0mtrain_signs\u001b[0m\u001b[1;33m,\u001b[0m \u001b[0mtrain_bboxes\u001b[0m\u001b[1;33m,\u001b[0m \u001b[0mtrain_labels\u001b[0m \u001b[1;33m=\u001b[0m \u001b[0mreadImages\u001b[0m\u001b[1;33m(\u001b[0m\u001b[1;34m'FullIJCNN2013'\u001b[0m\u001b[1;33m,\u001b[0m \u001b[0mrange\u001b[0m\u001b[1;33m(\u001b[0m\u001b[1;36m0\u001b[0m\u001b[1;33m,\u001b[0m\u001b[1;36m600\u001b[0m\u001b[1;33m)\u001b[0m\u001b[1;33m,\u001b[0m \u001b[0mrange\u001b[0m\u001b[1;33m(\u001b[0m\u001b[1;36m0\u001b[0m\u001b[1;33m,\u001b[0m\u001b[1;36m852\u001b[0m\u001b[1;33m)\u001b[0m\u001b[1;33m)\u001b[0m\u001b[1;33m\u001b[0m\u001b[1;33m\u001b[0m\u001b[0m\n\u001b[0m\u001b[0;32m      3\u001b[0m \u001b[0mtest_images\u001b[0m\u001b[1;33m,\u001b[0m \u001b[0mtest_files\u001b[0m\u001b[1;33m,\u001b[0m \u001b[0mtest_signs\u001b[0m\u001b[1;33m,\u001b[0m \u001b[0mtest_bboxes\u001b[0m\u001b[1;33m,\u001b[0m \u001b[0mtest_labels\u001b[0m \u001b[1;33m=\u001b[0m \u001b[0mreadImages\u001b[0m\u001b[1;33m(\u001b[0m\u001b[1;34m'FullIJCNN2013'\u001b[0m\u001b[1;33m,\u001b[0m \u001b[0mrange\u001b[0m\u001b[1;33m(\u001b[0m\u001b[1;36m600\u001b[0m\u001b[1;33m,\u001b[0m\u001b[1;36m900\u001b[0m\u001b[1;33m)\u001b[0m\u001b[1;33m,\u001b[0m \u001b[0mrange\u001b[0m\u001b[1;33m(\u001b[0m\u001b[1;36m852\u001b[0m\u001b[1;33m,\u001b[0m\u001b[1;36m1213\u001b[0m\u001b[1;33m)\u001b[0m\u001b[1;33m)\u001b[0m\u001b[1;33m\u001b[0m\u001b[1;33m\u001b[0m\u001b[0m\n",
      "\u001b[1;32m<ipython-input-3-9a5c077f8de2>\u001b[0m in \u001b[0;36mreadImages\u001b[1;34m(rootpath, images_range, signs_range)\u001b[0m\n\u001b[0;32m     12\u001b[0m         \u001b[0mfilename\u001b[0m \u001b[1;33m=\u001b[0m \u001b[0mrootpath\u001b[0m \u001b[1;33m+\u001b[0m \u001b[1;34m'/'\u001b[0m \u001b[1;33m+\u001b[0m \u001b[1;34m\"{:05d}\"\u001b[0m\u001b[1;33m.\u001b[0m\u001b[0mformat\u001b[0m\u001b[1;33m(\u001b[0m\u001b[0mnum\u001b[0m\u001b[1;33m)\u001b[0m \u001b[1;33m+\u001b[0m \u001b[1;34m'.ppm'\u001b[0m\u001b[1;33m\u001b[0m\u001b[1;33m\u001b[0m\u001b[0m\n\u001b[0;32m     13\u001b[0m         \u001b[0mimg\u001b[0m \u001b[1;33m=\u001b[0m \u001b[0mcv2\u001b[0m\u001b[1;33m.\u001b[0m\u001b[0mimread\u001b[0m\u001b[1;33m(\u001b[0m\u001b[0mfilename\u001b[0m\u001b[1;33m,\u001b[0m \u001b[0mcv2\u001b[0m\u001b[1;33m.\u001b[0m\u001b[0mIMREAD_COLOR\u001b[0m\u001b[1;33m)\u001b[0m\u001b[1;33m\u001b[0m\u001b[1;33m\u001b[0m\u001b[0m\n\u001b[1;32m---> 14\u001b[1;33m         \u001b[0mscale\u001b[0m \u001b[1;33m=\u001b[0m \u001b[0mIMG_HEIGHT\u001b[0m \u001b[1;33m/\u001b[0m \u001b[0mfloat\u001b[0m\u001b[1;33m(\u001b[0m\u001b[0mimg\u001b[0m\u001b[1;33m.\u001b[0m\u001b[0mshape\u001b[0m\u001b[1;33m[\u001b[0m\u001b[1;36m0\u001b[0m\u001b[1;33m]\u001b[0m\u001b[1;33m)\u001b[0m\u001b[1;33m\u001b[0m\u001b[1;33m\u001b[0m\u001b[0m\n\u001b[0m\u001b[0;32m     15\u001b[0m         \u001b[0mimg_resized\u001b[0m \u001b[1;33m=\u001b[0m \u001b[0mcv2\u001b[0m\u001b[1;33m.\u001b[0m\u001b[0mresize\u001b[0m\u001b[1;33m(\u001b[0m\u001b[0mimg\u001b[0m\u001b[1;33m,\u001b[0m \u001b[1;33m(\u001b[0m\u001b[0mint\u001b[0m\u001b[1;33m(\u001b[0m\u001b[0mimg\u001b[0m\u001b[1;33m.\u001b[0m\u001b[0mshape\u001b[0m\u001b[1;33m[\u001b[0m\u001b[1;36m1\u001b[0m\u001b[1;33m]\u001b[0m\u001b[1;33m*\u001b[0m\u001b[0mscale\u001b[0m\u001b[1;33m)\u001b[0m\u001b[1;33m,\u001b[0m\u001b[0mint\u001b[0m\u001b[1;33m(\u001b[0m\u001b[0mimg\u001b[0m\u001b[1;33m.\u001b[0m\u001b[0mshape\u001b[0m\u001b[1;33m[\u001b[0m\u001b[1;36m0\u001b[0m\u001b[1;33m]\u001b[0m\u001b[1;33m*\u001b[0m\u001b[0mscale\u001b[0m\u001b[1;33m)\u001b[0m\u001b[1;33m)\u001b[0m\u001b[1;33m)\u001b[0m\u001b[1;33m\u001b[0m\u001b[1;33m\u001b[0m\u001b[0m\n\u001b[0;32m     16\u001b[0m         \u001b[0mimages\u001b[0m\u001b[1;33m.\u001b[0m\u001b[0msetdefault\u001b[0m\u001b[1;33m(\u001b[0m\u001b[0mfilename\u001b[0m\u001b[1;33m,\u001b[0m\u001b[1;33m[\u001b[0m\u001b[1;33m]\u001b[0m\u001b[1;33m)\u001b[0m\u001b[1;33m.\u001b[0m\u001b[0mappend\u001b[0m\u001b[1;33m(\u001b[0m\u001b[0mimg_resized\u001b[0m\u001b[1;33m)\u001b[0m\u001b[1;33m\u001b[0m\u001b[1;33m\u001b[0m\u001b[0m\n",
      "\u001b[1;31mAttributeError\u001b[0m: 'NoneType' object has no attribute 'shape'"
     ]
    }
   ],
   "source": [
    "# The German Traffic Sign Recognition Benchmark\n",
    "train_images, train_files, train_signs, train_bboxes, train_labels = readImages('FullIJCNN2013', range(0,600), range(0,852))\n",
    "test_images, test_files, test_signs, test_bboxes, test_labels = readImages('FullIJCNN2013', range(600,900), range(852,1213))"
   ]
  },
  {
   "cell_type": "code",
   "execution_count": null,
   "metadata": {},
   "outputs": [],
   "source": [
    "%matplotlib inline \n",
    "\n",
    "# Show examples from each class\n",
    "class_names = np.unique(train_labels)\n",
    "num_classes = len(class_names)\n",
    "fig = plt.figure(figsize=(8,8))\n",
    "for i in range(num_classes):\n",
    "    ax = fig.add_subplot(6, 9, 1 + i, xticks=[], yticks=[])\n",
    "    ax.set_title(class_names[i])\n",
    "    indices = np.where(np.isin(train_labels, class_names[i]))[0]\n",
    "    plt.imshow(cv2.cvtColor(train_signs[int(np.random.choice(indices, 1))], cv2.COLOR_BGR2RGB))\n",
    "plt.show()"
   ]
  },
  {
   "cell_type": "code",
   "execution_count": null,
   "metadata": {},
   "outputs": [],
   "source": [
    "train_files, train_signs, train_bboxes, train_labels = shuffle(train_files, train_signs, train_bboxes, train_labels)\n",
    "# plt.imshow(cv2.cvtColor(train_images.get(train_files[0])[0], cv2.COLOR_BGR2RGB))\n",
    "# plt.show()\n",
    "# plt.imshow(cv2.cvtColor(train_signs[0], cv2.COLOR_BGR2RGB))\n",
    "# plt.show()\n",
    "# print(train_bboxes[0])\n",
    "# print(train_labels[0])\n",
    "\n",
    "# Data pre-processing\n",
    "tr_signs = np.array(train_signs)[0:600]\n",
    "tr_labels = np.array(train_labels)[0:600] \n",
    "va_signs = np.array(train_signs)[600:852]  \n",
    "va_labels = np.array(train_labels)[600:852]\n",
    "te_signs = np.array(test_signs)\n",
    "te_labels = np.array(test_labels)\n",
    "\n",
    "tr_signs = tr_signs.astype('float32')\n",
    "va_signs = va_signs.astype('float32')\n",
    "te_signs = te_signs.astype('float32')\n",
    "tr_signs /= 255.0\n",
    "va_signs /= 255.0\n",
    "te_signs /= 255.0\n",
    "\n",
    "tr_labels = np_utils.to_categorical(tr_labels, num_classes)\n",
    "va_labels = np_utils.to_categorical(va_labels, num_classes)\n",
    "te_labels = np_utils.to_categorical(te_labels, num_classes)"
   ]
  },
  {
   "cell_type": "code",
   "execution_count": 8,
   "metadata": {},
   "outputs": [
    {
     "name": "stdout",
     "output_type": "stream",
     "text": [
      "852\n"
     ]
    }
   ],
   "source": [
    "print(len(train_signs))"
   ]
  },
  {
   "cell_type": "code",
   "execution_count": 9,
   "metadata": {},
   "outputs": [
    {
     "name": "stdout",
     "output_type": "stream",
     "text": [
      "(600, 224, 224, 3)\n",
      "224\n",
      "(600, 43)\n",
      "1213\n"
     ]
    }
   ],
   "source": [
    "print(tr_signs.shape)\n",
    "print(tr_signs.shape[1])\n",
    "print(tr_labels.shape)\n",
    "print(tr_labels.shape[0]+va_labels.shape[0]+te_labels.shape[0])\n"
   ]
  },
  {
   "cell_type": "code",
   "execution_count": 10,
   "metadata": {},
   "outputs": [
    {
     "name": "stdout",
     "output_type": "stream",
     "text": [
      "(252, 224, 224, 3)\n",
      "(252, 43)\n"
     ]
    }
   ],
   "source": [
    "print(va_signs.shape)\n",
    "print(va_labels.shape)"
   ]
  },
  {
   "cell_type": "code",
   "execution_count": 11,
   "metadata": {},
   "outputs": [
    {
     "name": "stdout",
     "output_type": "stream",
     "text": [
      "(361, 224, 224, 3)\n",
      "(361, 43)\n",
      "[[[0.14901961 0.14509805 0.1764706 ]\n",
      "  [0.14901961 0.14509805 0.1764706 ]\n",
      "  [0.14901961 0.14509805 0.1764706 ]\n",
      "  ...\n",
      "  [0.10980392 0.10980392 0.1254902 ]\n",
      "  [0.10980392 0.10980392 0.1254902 ]\n",
      "  [0.10980392 0.10980392 0.1254902 ]]\n",
      "\n",
      " [[0.14901961 0.14509805 0.1764706 ]\n",
      "  [0.14901961 0.14509805 0.1764706 ]\n",
      "  [0.14901961 0.14509805 0.1764706 ]\n",
      "  ...\n",
      "  [0.10980392 0.10980392 0.1254902 ]\n",
      "  [0.10980392 0.10980392 0.1254902 ]\n",
      "  [0.10980392 0.10980392 0.1254902 ]]\n",
      "\n",
      " [[0.14901961 0.14509805 0.1764706 ]\n",
      "  [0.14901961 0.14509805 0.1764706 ]\n",
      "  [0.14901961 0.14509805 0.1764706 ]\n",
      "  ...\n",
      "  [0.10980392 0.10980392 0.1254902 ]\n",
      "  [0.10980392 0.10980392 0.1254902 ]\n",
      "  [0.10980392 0.10980392 0.1254902 ]]\n",
      "\n",
      " ...\n",
      "\n",
      " [[0.11764706 0.11372549 0.11372549]\n",
      "  [0.11764706 0.11372549 0.11372549]\n",
      "  [0.11764706 0.11372549 0.11372549]\n",
      "  ...\n",
      "  [0.1254902  0.1254902  0.16078432]\n",
      "  [0.1254902  0.1254902  0.16078432]\n",
      "  [0.1254902  0.1254902  0.16078432]]\n",
      "\n",
      " [[0.11764706 0.11372549 0.11372549]\n",
      "  [0.11764706 0.11372549 0.11372549]\n",
      "  [0.11764706 0.11372549 0.11372549]\n",
      "  ...\n",
      "  [0.1254902  0.1254902  0.16078432]\n",
      "  [0.1254902  0.1254902  0.16078432]\n",
      "  [0.1254902  0.1254902  0.16078432]]\n",
      "\n",
      " [[0.11764706 0.11372549 0.11372549]\n",
      "  [0.11764706 0.11372549 0.11372549]\n",
      "  [0.11764706 0.11372549 0.11372549]\n",
      "  ...\n",
      "  [0.1254902  0.1254902  0.16078432]\n",
      "  [0.1254902  0.1254902  0.16078432]\n",
      "  [0.1254902  0.1254902  0.16078432]]]\n"
     ]
    }
   ],
   "source": [
    "print(te_signs.shape)\n",
    "print(te_labels.shape)\n",
    "print(te_signs[360])"
   ]
  },
  {
   "cell_type": "code",
   "execution_count": 12,
   "metadata": {},
   "outputs": [],
   "source": [
    "# Tensorboard\n",
    "from time import time\n",
    "from keras.callbacks import TensorBoard\n",
    "tensorboard = TensorBoard(log_dir='logs/{}'.format(time()))"
   ]
  },
  {
   "cell_type": "markdown",
   "metadata": {},
   "source": [
    "### Assignment 1: Multi-Layer Perceptron"
   ]
  },
  {
   "cell_type": "markdown",
   "metadata": {},
   "source": [
    "#### Compile the model"
   ]
  },
  {
   "cell_type": "code",
   "execution_count": 13,
   "metadata": {},
   "outputs": [
    {
     "name": "stdout",
     "output_type": "stream",
     "text": [
      "Model: \"sequential\"\n",
      "_________________________________________________________________\n",
      "Layer (type)                 Output Shape              Param #   \n",
      "=================================================================\n",
      "conv2d (Conv2D)              (None, 224, 224, 48)      1344      \n",
      "_________________________________________________________________\n",
      "conv2d_1 (Conv2D)            (None, 224, 224, 48)      20784     \n",
      "_________________________________________________________________\n",
      "max_pooling2d (MaxPooling2D) (None, 112, 112, 48)      0         \n",
      "_________________________________________________________________\n",
      "dropout (Dropout)            (None, 112, 112, 48)      0         \n",
      "_________________________________________________________________\n",
      "conv2d_2 (Conv2D)            (None, 112, 112, 96)      41568     \n",
      "_________________________________________________________________\n",
      "conv2d_3 (Conv2D)            (None, 112, 112, 96)      83040     \n",
      "_________________________________________________________________\n",
      "max_pooling2d_1 (MaxPooling2 (None, 56, 56, 96)        0         \n",
      "_________________________________________________________________\n",
      "dropout_1 (Dropout)          (None, 56, 56, 96)        0         \n",
      "_________________________________________________________________\n",
      "conv2d_4 (Conv2D)            (None, 56, 56, 192)       166080    \n",
      "_________________________________________________________________\n",
      "conv2d_5 (Conv2D)            (None, 56, 56, 192)       331968    \n",
      "_________________________________________________________________\n",
      "max_pooling2d_2 (MaxPooling2 (None, 28, 28, 192)       0         \n",
      "_________________________________________________________________\n",
      "dropout_2 (Dropout)          (None, 28, 28, 192)       0         \n",
      "_________________________________________________________________\n",
      "flatten (Flatten)            (None, 150528)            0         \n",
      "_________________________________________________________________\n",
      "dense (Dense)                (None, 43)                6472747   \n",
      "=================================================================\n",
      "Total params: 7,117,531\n",
      "Trainable params: 7,117,531\n",
      "Non-trainable params: 0\n",
      "_________________________________________________________________\n"
     ]
    }
   ],
   "source": [
    "from keras.models import Sequential\n",
    "from keras.layers import Dense, Dropout, Activation, Flatten\n",
    "from keras.layers.convolutional import Conv2D, MaxPooling2D\n",
    "from keras import optimizers, regularizers\n",
    "import keras.backend as K\n",
    "#K.set_image_data_format('channels_first')\n",
    "\n",
    "weight_decay = 1e-4\n",
    "\n",
    "model = Sequential()\n",
    "\n",
    "model.add(Conv2D(48, kernel_size=(3, 3), padding=\"same\", activation=\"relu\",input_shape=(224,224,3), kernel_initializer=\"he_normal\", kernel_regularizer=regularizers.l2(weight_decay)))\n",
    "model.add(Conv2D(48, kernel_size=(3, 3), padding=\"same\", activation=\"relu\",kernel_initializer=\"he_normal\", kernel_regularizer=regularizers.l2(weight_decay)))\n",
    "model.add(MaxPooling2D(pool_size=(2, 2)))\n",
    "model.add(Dropout(0.1))\n",
    "\n",
    "\n",
    "model.add(Conv2D(96, (3, 3), padding='same',activation='relu', kernel_initializer=\"he_normal\",kernel_regularizer=regularizers.l2(weight_decay)))\n",
    "model.add(Conv2D(96, (3, 3), padding='same',activation='relu', kernel_initializer=\"he_normal\", kernel_regularizer=regularizers.l2(weight_decay)))\n",
    "model.add(MaxPooling2D(pool_size=(2, 2)))\n",
    "model.add(Dropout(0.2))\n",
    "\n",
    "\n",
    "model.add(Conv2D(192, (3, 3), padding='same',activation='relu', kernel_initializer=\"he_normal\", kernel_regularizer=regularizers.l2(weight_decay)))\n",
    "model.add(Conv2D(192, (3, 3), padding='same',activation='relu', kernel_initializer=\"he_normal\", kernel_regularizer=regularizers.l2(weight_decay)))\n",
    "model.add(MaxPooling2D(pool_size=(2, 2)))\n",
    "model.add(Dropout(0.2))\n",
    "\n",
    "model.add(Flatten())\n",
    "model.add(Dense(tr_labels.shape[1], activation=\"softmax\"))\n",
    "\n",
    "opt = optimizers.Adam(lr=0.001, beta_1=0.9, beta_2=0.999)        \n",
    "model.compile(optimizer=opt, loss='categorical_crossentropy', metrics=['accuracy'])\n",
    "model.summary()"
   ]
  },
  {
   "cell_type": "markdown",
   "metadata": {},
   "source": [
    "#### Data augmentation"
   ]
  },
  {
   "cell_type": "code",
   "execution_count": 14,
   "metadata": {},
   "outputs": [],
   "source": [
    "from keras.preprocessing.image import ImageDataGenerator\n",
    "\n",
    "datagen = ImageDataGenerator(featurewise_center=False, \n",
    "                            featurewise_std_normalization=False, \n",
    "                            rotation_range=10.,\n",
    "                            width_shift_range=0.1,\n",
    "                            height_shift_range=0.1,\n",
    "                            zoom_range=0.3,\n",
    "                            shear_range=0.1,\n",
    "                            horizontal_flip=True)\n",
    "\n",
    "datagen.fit(tr_signs)"
   ]
  },
  {
   "cell_type": "markdown",
   "metadata": {},
   "source": [
    "#### Train the model"
   ]
  },
  {
   "cell_type": "code",
   "execution_count": 15,
   "metadata": {
    "scrolled": true
   },
   "outputs": [
    {
     "name": "stdout",
     "output_type": "stream",
     "text": [
      "Epoch 1/100\n",
      "18/18 - 144s - loss: 6.7191 - accuracy: 0.0683 - val_loss: 3.6243 - val_accuracy: 0.0675\n",
      "Epoch 2/100\n",
      "18/18 - 141s - loss: 3.6132 - accuracy: 0.0967 - val_loss: 3.6211 - val_accuracy: 0.0675\n",
      "Epoch 3/100\n",
      "18/18 - 144s - loss: 3.4466 - accuracy: 0.1050 - val_loss: 3.3411 - val_accuracy: 0.1468\n",
      "Epoch 4/100\n",
      "18/18 - 145s - loss: 3.2130 - accuracy: 0.1533 - val_loss: 3.2616 - val_accuracy: 0.1746\n",
      "Epoch 5/100\n",
      "18/18 - 146s - loss: 3.0741 - accuracy: 0.1717 - val_loss: 3.1330 - val_accuracy: 0.2500\n",
      "Epoch 6/100\n",
      "18/18 - 145s - loss: 2.9825 - accuracy: 0.1900 - val_loss: 3.0414 - val_accuracy: 0.2659\n",
      "Epoch 7/100\n",
      "18/18 - 141s - loss: 2.8391 - accuracy: 0.2800 - val_loss: 2.9907 - val_accuracy: 0.2976\n",
      "Epoch 8/100\n",
      "18/18 - 136s - loss: 2.7482 - accuracy: 0.3000 - val_loss: 2.6388 - val_accuracy: 0.4325\n",
      "Epoch 9/100\n",
      "18/18 - 138s - loss: 2.4564 - accuracy: 0.3783 - val_loss: 2.6217 - val_accuracy: 0.3849\n",
      "Epoch 10/100\n",
      "18/18 - 141s - loss: 2.3843 - accuracy: 0.3467 - val_loss: 2.3433 - val_accuracy: 0.4563\n",
      "Epoch 11/100\n",
      "18/18 - 154s - loss: 2.1129 - accuracy: 0.3783 - val_loss: 2.1666 - val_accuracy: 0.4643\n",
      "Epoch 12/100\n",
      "18/18 - 154s - loss: 2.0584 - accuracy: 0.4033 - val_loss: 2.0384 - val_accuracy: 0.5000\n",
      "Epoch 13/100\n",
      "18/18 - 154s - loss: 1.8706 - accuracy: 0.4500 - val_loss: 2.0189 - val_accuracy: 0.4841\n",
      "Epoch 14/100\n",
      "18/18 - 153s - loss: 1.8447 - accuracy: 0.4817 - val_loss: 2.0809 - val_accuracy: 0.5238\n",
      "Epoch 15/100\n",
      "18/18 - 158s - loss: 1.9276 - accuracy: 0.4167 - val_loss: 1.9906 - val_accuracy: 0.4881\n",
      "Epoch 16/100\n",
      "18/18 - 162s - loss: 1.7506 - accuracy: 0.5150 - val_loss: 1.9666 - val_accuracy: 0.5159\n",
      "Epoch 17/100\n",
      "18/18 - 146s - loss: 1.7865 - accuracy: 0.4667 - val_loss: 1.9015 - val_accuracy: 0.4960\n",
      "Epoch 18/100\n",
      "18/18 - 147s - loss: 1.7427 - accuracy: 0.4733 - val_loss: 2.0140 - val_accuracy: 0.5159\n",
      "Epoch 19/100\n",
      "18/18 - 141s - loss: 1.6740 - accuracy: 0.4900 - val_loss: 1.9962 - val_accuracy: 0.5278\n",
      "Epoch 20/100\n",
      "18/18 - 147s - loss: 1.6458 - accuracy: 0.5000 - val_loss: 1.8538 - val_accuracy: 0.5119\n",
      "Epoch 21/100\n",
      "18/18 - 148s - loss: 1.6098 - accuracy: 0.5083 - val_loss: 1.9533 - val_accuracy: 0.4960\n",
      "Epoch 22/100\n",
      "18/18 - 147s - loss: 1.5787 - accuracy: 0.5333 - val_loss: 1.8781 - val_accuracy: 0.5635\n",
      "Epoch 23/100\n",
      "18/18 - 145s - loss: 1.5190 - accuracy: 0.5350 - val_loss: 1.8799 - val_accuracy: 0.5833\n",
      "Epoch 24/100\n",
      "18/18 - 148s - loss: 1.4438 - accuracy: 0.5483 - val_loss: 1.8943 - val_accuracy: 0.5040\n",
      "Epoch 25/100\n",
      "18/18 - 145s - loss: 1.4643 - accuracy: 0.5467 - val_loss: 1.9111 - val_accuracy: 0.5437\n",
      "Epoch 26/100\n",
      "18/18 - 144s - loss: 1.4154 - accuracy: 0.5600 - val_loss: 1.9485 - val_accuracy: 0.5317\n",
      "Epoch 27/100\n",
      "18/18 - 144s - loss: 1.4514 - accuracy: 0.5500 - val_loss: 1.9940 - val_accuracy: 0.5595\n",
      "Epoch 28/100\n",
      "18/18 - 138s - loss: 1.4815 - accuracy: 0.5367 - val_loss: 1.8512 - val_accuracy: 0.5357\n",
      "Epoch 29/100\n",
      "18/18 - 138s - loss: 1.3710 - accuracy: 0.5800 - val_loss: 1.8303 - val_accuracy: 0.5476\n",
      "Epoch 30/100\n",
      "18/18 - 140s - loss: 1.4012 - accuracy: 0.5833 - val_loss: 1.9171 - val_accuracy: 0.5635\n",
      "Epoch 31/100\n",
      "18/18 - 143s - loss: 1.3586 - accuracy: 0.5717 - val_loss: 1.7815 - val_accuracy: 0.5556\n",
      "Epoch 32/100\n",
      "18/18 - 137s - loss: 1.2395 - accuracy: 0.6150 - val_loss: 2.0234 - val_accuracy: 0.5714\n",
      "Epoch 33/100\n",
      "18/18 - 136s - loss: 1.3365 - accuracy: 0.5983 - val_loss: 1.9115 - val_accuracy: 0.5635\n",
      "Epoch 34/100\n",
      "18/18 - 139s - loss: 1.3724 - accuracy: 0.5933 - val_loss: 1.6889 - val_accuracy: 0.5516\n",
      "Epoch 35/100\n",
      "18/18 - 140s - loss: 1.3119 - accuracy: 0.5800 - val_loss: 1.9089 - val_accuracy: 0.5754\n",
      "Epoch 36/100\n",
      "18/18 - 141s - loss: 1.2351 - accuracy: 0.6133 - val_loss: 1.7794 - val_accuracy: 0.6032\n",
      "Epoch 37/100\n",
      "18/18 - 145s - loss: 1.2041 - accuracy: 0.6400 - val_loss: 1.7642 - val_accuracy: 0.5754\n",
      "Epoch 38/100\n",
      "18/18 - 138s - loss: 1.1429 - accuracy: 0.6617 - val_loss: 1.7939 - val_accuracy: 0.6071\n",
      "Epoch 39/100\n",
      "18/18 - 139s - loss: 1.1750 - accuracy: 0.6167 - val_loss: 1.8283 - val_accuracy: 0.6349\n",
      "Epoch 40/100\n",
      "18/18 - 135s - loss: 1.1907 - accuracy: 0.6417 - val_loss: 1.8904 - val_accuracy: 0.5992\n",
      "Epoch 41/100\n",
      "18/18 - 139s - loss: 1.0179 - accuracy: 0.6783 - val_loss: 1.7823 - val_accuracy: 0.5952\n",
      "Epoch 42/100\n",
      "18/18 - 156s - loss: 1.0898 - accuracy: 0.6633 - val_loss: 1.8106 - val_accuracy: 0.6190\n",
      "Epoch 43/100\n",
      "18/18 - 157s - loss: 1.1663 - accuracy: 0.6383 - val_loss: 1.8641 - val_accuracy: 0.6190\n",
      "Epoch 44/100\n",
      "18/18 - 159s - loss: 1.0875 - accuracy: 0.6467 - val_loss: 1.8520 - val_accuracy: 0.5992\n",
      "Epoch 45/100\n",
      "18/18 - 149s - loss: 1.0290 - accuracy: 0.6883 - val_loss: 1.9541 - val_accuracy: 0.5992\n",
      "Epoch 46/100\n",
      "18/18 - 155s - loss: 0.9560 - accuracy: 0.7000 - val_loss: 1.7506 - val_accuracy: 0.6429\n",
      "Epoch 47/100\n",
      "18/18 - 150s - loss: 1.0639 - accuracy: 0.6700 - val_loss: 1.6833 - val_accuracy: 0.6508\n",
      "Epoch 48/100\n",
      "18/18 - 158s - loss: 1.0218 - accuracy: 0.6750 - val_loss: 1.6835 - val_accuracy: 0.6270\n",
      "Epoch 49/100\n",
      "18/18 - 150s - loss: 1.0424 - accuracy: 0.6750 - val_loss: 1.7190 - val_accuracy: 0.6429\n",
      "Epoch 50/100\n",
      "18/18 - 152s - loss: 0.9095 - accuracy: 0.7133 - val_loss: 1.8090 - val_accuracy: 0.6786\n",
      "Epoch 51/100\n",
      "18/18 - 153s - loss: 0.9693 - accuracy: 0.7067 - val_loss: 1.8851 - val_accuracy: 0.6151\n",
      "Epoch 52/100\n",
      "18/18 - 145s - loss: 0.9650 - accuracy: 0.7017 - val_loss: 1.7188 - val_accuracy: 0.6667\n",
      "Epoch 53/100\n",
      "18/18 - 146s - loss: 0.8982 - accuracy: 0.7233 - val_loss: 1.7658 - val_accuracy: 0.6746\n",
      "Epoch 54/100\n",
      "18/18 - 139s - loss: 0.8721 - accuracy: 0.7550 - val_loss: 1.7443 - val_accuracy: 0.6548\n",
      "Epoch 55/100\n",
      "18/18 - 146s - loss: 0.8765 - accuracy: 0.7383 - val_loss: 1.7842 - val_accuracy: 0.6548\n",
      "Epoch 56/100\n",
      "18/18 - 158s - loss: 0.8974 - accuracy: 0.7167 - val_loss: 1.7639 - val_accuracy: 0.6548\n",
      "Epoch 57/100\n",
      "18/18 - 160s - loss: 0.8059 - accuracy: 0.7600 - val_loss: 1.8377 - val_accuracy: 0.6627\n",
      "Epoch 58/100\n",
      "18/18 - 164s - loss: 0.8877 - accuracy: 0.7083 - val_loss: 1.6786 - val_accuracy: 0.6905\n",
      "Epoch 59/100\n",
      "18/18 - 156s - loss: 0.8758 - accuracy: 0.7150 - val_loss: 1.8075 - val_accuracy: 0.7143\n",
      "Epoch 60/100\n",
      "18/18 - 154s - loss: 0.8671 - accuracy: 0.7250 - val_loss: 1.7841 - val_accuracy: 0.6627\n",
      "Epoch 61/100\n",
      "18/18 - 152s - loss: 0.7584 - accuracy: 0.7750 - val_loss: 1.8238 - val_accuracy: 0.6786\n",
      "Epoch 62/100\n",
      "18/18 - 138s - loss: 0.7287 - accuracy: 0.7783 - val_loss: 1.9558 - val_accuracy: 0.6627\n",
      "Epoch 63/100\n",
      "18/18 - 139s - loss: 0.8280 - accuracy: 0.7817 - val_loss: 1.7000 - val_accuracy: 0.6667\n",
      "Epoch 64/100\n",
      "18/18 - 138s - loss: 0.7449 - accuracy: 0.7717 - val_loss: 1.6978 - val_accuracy: 0.6706\n",
      "Epoch 65/100\n",
      "18/18 - 156s - loss: 0.8289 - accuracy: 0.7500 - val_loss: 1.7071 - val_accuracy: 0.6706\n",
      "Epoch 66/100\n",
      "18/18 - 154s - loss: 0.7225 - accuracy: 0.7867 - val_loss: 1.8383 - val_accuracy: 0.6627\n",
      "Epoch 67/100\n",
      "18/18 - 150s - loss: 0.8512 - accuracy: 0.7567 - val_loss: 1.6219 - val_accuracy: 0.7143\n",
      "Epoch 68/100\n",
      "18/18 - 145s - loss: 0.7403 - accuracy: 0.7733 - val_loss: 1.6113 - val_accuracy: 0.6905\n",
      "Epoch 69/100\n",
      "18/18 - 143s - loss: 0.7533 - accuracy: 0.7650 - val_loss: 1.6486 - val_accuracy: 0.7024\n",
      "Epoch 70/100\n",
      "18/18 - 150s - loss: 0.7194 - accuracy: 0.7767 - val_loss: 1.7762 - val_accuracy: 0.6984\n",
      "Epoch 71/100\n",
      "18/18 - 137s - loss: 0.6432 - accuracy: 0.8200 - val_loss: 1.8067 - val_accuracy: 0.6468\n",
      "Epoch 72/100\n",
      "18/18 - 138s - loss: 0.7305 - accuracy: 0.7800 - val_loss: 1.8664 - val_accuracy: 0.6587\n",
      "Epoch 73/100\n",
      "18/18 - 134s - loss: 0.7802 - accuracy: 0.7667 - val_loss: 1.7676 - val_accuracy: 0.6944\n",
      "Epoch 74/100\n",
      "18/18 - 132s - loss: 0.7521 - accuracy: 0.7783 - val_loss: 1.6624 - val_accuracy: 0.7024\n",
      "Epoch 75/100\n",
      "18/18 - 132s - loss: 0.6874 - accuracy: 0.8000 - val_loss: 1.8558 - val_accuracy: 0.6825\n",
      "Epoch 76/100\n",
      "18/18 - 131s - loss: 0.6783 - accuracy: 0.7883 - val_loss: 1.9352 - val_accuracy: 0.6706\n",
      "Epoch 77/100\n",
      "18/18 - 140s - loss: 0.6384 - accuracy: 0.8167 - val_loss: 1.8126 - val_accuracy: 0.6865\n",
      "Epoch 78/100\n",
      "18/18 - 149s - loss: 0.6912 - accuracy: 0.7783 - val_loss: 1.7178 - val_accuracy: 0.6508\n",
      "Epoch 79/100\n",
      "18/18 - 148s - loss: 0.6549 - accuracy: 0.7967 - val_loss: 1.7150 - val_accuracy: 0.7024\n",
      "Epoch 80/100\n",
      "18/18 - 151s - loss: 0.5616 - accuracy: 0.8400 - val_loss: 2.0126 - val_accuracy: 0.6548\n",
      "Epoch 81/100\n",
      "18/18 - 148s - loss: 0.6774 - accuracy: 0.8017 - val_loss: 1.5909 - val_accuracy: 0.6865\n"
     ]
    },
    {
     "name": "stdout",
     "output_type": "stream",
     "text": [
      "Epoch 82/100\n",
      "18/18 - 149s - loss: 0.6547 - accuracy: 0.8017 - val_loss: 1.6775 - val_accuracy: 0.7024\n",
      "Epoch 83/100\n",
      "18/18 - 144s - loss: 0.6676 - accuracy: 0.8083 - val_loss: 1.7388 - val_accuracy: 0.7024\n",
      "Epoch 84/100\n",
      "18/18 - 147s - loss: 0.7406 - accuracy: 0.7833 - val_loss: 1.7878 - val_accuracy: 0.6746\n",
      "Epoch 85/100\n",
      "18/18 - 156s - loss: 0.6749 - accuracy: 0.7950 - val_loss: 1.7408 - val_accuracy: 0.6825\n",
      "Epoch 86/100\n",
      "18/18 - 151s - loss: 0.6214 - accuracy: 0.8233 - val_loss: 1.7028 - val_accuracy: 0.6706\n",
      "Epoch 87/100\n",
      "18/18 - 149s - loss: 0.6494 - accuracy: 0.8117 - val_loss: 1.7383 - val_accuracy: 0.6746\n",
      "Epoch 88/100\n",
      "18/18 - 150s - loss: 0.6484 - accuracy: 0.8200 - val_loss: 1.7376 - val_accuracy: 0.6984\n",
      "Epoch 89/100\n",
      "18/18 - 147s - loss: 0.6329 - accuracy: 0.8083 - val_loss: 1.8929 - val_accuracy: 0.7063\n",
      "Epoch 90/100\n",
      "18/18 - 147s - loss: 0.5635 - accuracy: 0.8483 - val_loss: 1.6761 - val_accuracy: 0.7103\n",
      "Epoch 91/100\n",
      "18/18 - 151s - loss: 0.6039 - accuracy: 0.8317 - val_loss: 1.8912 - val_accuracy: 0.6865\n",
      "Epoch 92/100\n",
      "18/18 - 147s - loss: 0.6812 - accuracy: 0.8150 - val_loss: 1.8201 - val_accuracy: 0.6944\n",
      "Epoch 93/100\n",
      "18/18 - 156s - loss: 0.5944 - accuracy: 0.8350 - val_loss: 1.8748 - val_accuracy: 0.6706\n",
      "Epoch 94/100\n",
      "18/18 - 141s - loss: 0.5427 - accuracy: 0.8350 - val_loss: 1.7674 - val_accuracy: 0.7063\n",
      "Epoch 95/100\n",
      "18/18 - 143s - loss: 0.5307 - accuracy: 0.8317 - val_loss: 1.8270 - val_accuracy: 0.6984\n",
      "Epoch 96/100\n",
      "18/18 - 138s - loss: 0.5630 - accuracy: 0.8317 - val_loss: 1.7436 - val_accuracy: 0.6984\n",
      "Epoch 97/100\n",
      "18/18 - 135s - loss: 0.6051 - accuracy: 0.8200 - val_loss: 1.8092 - val_accuracy: 0.6825\n",
      "Epoch 98/100\n",
      "18/18 - 139s - loss: 0.5688 - accuracy: 0.8317 - val_loss: 1.7874 - val_accuracy: 0.6865\n",
      "Epoch 99/100\n",
      "18/18 - 142s - loss: 0.5837 - accuracy: 0.8233 - val_loss: 1.7499 - val_accuracy: 0.7024\n",
      "Epoch 100/100\n",
      "18/18 - 137s - loss: 0.6257 - accuracy: 0.8183 - val_loss: 1.8899 - val_accuracy: 0.6825\n"
     ]
    }
   ],
   "source": [
    "data = model.fit(datagen.flow(tr_signs, tr_labels, batch_size=32), steps_per_epoch=len(tr_signs)/32, epochs=100, verbose=2, validation_data=(va_signs, va_labels),callbacks=[tensorboard])\n",
    "\n",
    "start = time()\n"
   ]
  },
  {
   "cell_type": "markdown",
   "metadata": {},
   "source": [
    "#### Get the results"
   ]
  },
  {
   "cell_type": "code",
   "execution_count": 16,
   "metadata": {},
   "outputs": [
    {
     "data": {
      "image/png": "[encoded data removed]",
      "text/plain": [
       "<Figure size 576x360 with 1 Axes>"
      ]
     },
     "metadata": {
      "needs_background": "light"
     },
     "output_type": "display_data"
    },
    {
     "name": "stdout",
     "output_type": "stream",
     "text": [
      "        loss  accuracy  val_loss  val_accuracy\n",
      "99  0.625724  0.818333   1.88994       0.68254\n"
     ]
    }
   ],
   "source": [
    "results=pd.DataFrame(data.history)\n",
    "results.plot(figsize=(8, 5))\n",
    "plt.grid(True)\n",
    "plt.xlabel (\"Epochs\")\n",
    "plt.ylabel (\"Accuracy - Mean Log Loss\")\n",
    "plt.gca().set_ylim(0, 4) # set the vertical range to [0-1]\n",
    "plt.show()\n",
    "print(results[-1:])"
   ]
  },
  {
   "cell_type": "markdown",
   "metadata": {},
   "source": [
    "#### Final Test"
   ]
  },
  {
   "cell_type": "code",
   "execution_count": 17,
   "metadata": {},
   "outputs": [
    {
     "name": "stdout",
     "output_type": "stream",
     "text": [
      "Test loss: 1.4171252250671387 - Accuracy: 0.7036011219024658\n"
     ]
    }
   ],
   "source": [
    "\n",
    "loss, acc = model.evaluate(te_signs, te_labels, verbose=0)\n",
    "end = time()\n",
    "#print('MLP took ' + str(end - start) + ' seconds')\n",
    "print('Test loss: ' + str(loss) + ' - Accuracy: ' + str(acc))\n"
   ]
  }
 ],
 "metadata": {
  "kernelspec": {
   "display_name": "Python 3",
   "language": "python",
   "name": "python3"
  },
  "language_info": {
   "codemirror_mode": {
    "name": "ipython",
    "version": 3
   },
   "file_extension": ".py",
   "mimetype": "text/x-python",
   "name": "python",
   "nbconvert_exporter": "python",
   "pygments_lexer": "ipython3",
   "version": "3.8.5"
  }
 },
 "nbformat": 4,
 "nbformat_minor": 2
}
